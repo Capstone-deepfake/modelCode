{
  "nbformat": 4,
  "nbformat_minor": 0,
  "metadata": {
    "colab": {
      "provenance": []
    },
    "kernelspec": {
      "name": "python3",
      "display_name": "Python 3"
    },
    "language_info": {
      "name": "python"
    }
  },
  "cells": [
    {
      "cell_type": "code",
      "source": [
        "from google.colab import drive\n",
        "drive.mount('/content/drive')"
      ],
      "metadata": {
        "colab": {
          "base_uri": "https://localhost:8080/"
        },
        "id": "k6CYd3WUmtvz",
        "outputId": "55e77ceb-af1d-444d-af79-9087ee0a4427"
      },
      "execution_count": 1,
      "outputs": [
        {
          "output_type": "stream",
          "name": "stdout",
          "text": [
            "Mounted at /content/drive\n"
          ]
        }
      ]
    },
    {
      "cell_type": "code",
      "execution_count": 2,
      "metadata": {
        "id": "EFKkWyVemVl7"
      },
      "outputs": [],
      "source": [
        "import os\n",
        "import glob\n",
        "import cv2\n",
        "import torch\n",
        "import random\n",
        "import numpy as np\n",
        "import pandas as pd\n",
        "from torch import nn, optim\n",
        "from torch.utils.data import Dataset, DataLoader\n",
        "from torchvision import transforms, models\n",
        "from tqdm import tqdm\n",
        "from sklearn.metrics import confusion_matrix, classification_report\n",
        "import seaborn as sn\n",
        "import matplotlib.pyplot as plt\n",
        "import time\n",
        "import concurrent.futures"
      ]
    },
    {
      "cell_type": "code",
      "source": [
        "# Paths\n",
        "input_file_path = '/content/drive/MyDrive/class/capstone_com/datasetbackup/DFDC/fake'\n",
        "output_file_path = '/content/drive/MyDrive/class/capstone_com/datasetbackup/DFDC/real'\n",
        "meta_data_path = '/content/drive/MyDrive/class/capstone_com/datasetbackup'\n",
        "checkpoint_path = '/content/drive/MyDrive/class/capstone_com/datasetbackup/checkpoints'\n",
        "frames_required = 100\n",
        "valid_csv_path = f'{meta_data_path}/valid_videos.csv'\n",
        "# valid_csv_path = f'{meta_data_path}/valid_videos_old.csv'"
      ],
      "metadata": {
        "id": "VbCyL9WXmW1I"
      },
      "execution_count": 16,
      "outputs": []
    },
    {
      "cell_type": "code",
      "source": [
        "import pandas as pd\n",
        "import os\n",
        "\n",
        "# 기존 csv 파일 경로\n",
        "csv_path = f'{meta_data_path}/valid_videos_old.csv'\n",
        "\n",
        "# 새로운 기본 경로\n",
        "base_path = '/content/drive/MyDrive/class/capstone_com/datasetbackup/DFDC'\n",
        "\n",
        "# CSV 읽기 (헤더 있음)\n",
        "df = pd.read_csv(csv_path)\n",
        "\n",
        "def replace_path(old_path):\n",
        "    filename = os.path.basename(old_path)\n",
        "    if 'real' in old_path.lower():\n",
        "        return os.path.join(base_path, 'real', filename)\n",
        "    elif 'fake' in old_path.lower():\n",
        "        return os.path.join(base_path, 'fake', filename)\n",
        "    else:\n",
        "        # real/fake 단어가 없으면 원래 경로 유지하거나 처리\n",
        "        return old_path\n",
        "\n",
        "df['video_path'] = df['video_path'].apply(replace_path)\n",
        "\n",
        "df.to_csv(f'{meta_data_path}/valid_videos.csv', index=False)\n",
        "\n",
        "print(\"[INFO] 경로 변경 완료. valid_video_updated.csv 파일로 저장되었습니다.\")\n"
      ],
      "metadata": {
        "colab": {
          "base_uri": "https://localhost:8080/",
          "height": 216
        },
        "id": "WEId38SAqGJQ",
        "outputId": "4780a35c-9d38-4d44-c051-032109d72ce9"
      },
      "execution_count": 3,
      "outputs": [
        {
          "output_type": "error",
          "ename": "NameError",
          "evalue": "name 'meta_data_path' is not defined",
          "traceback": [
            "\u001b[0;31m---------------------------------------------------------------------------\u001b[0m",
            "\u001b[0;31mNameError\u001b[0m                                 Traceback (most recent call last)",
            "\u001b[0;32m<ipython-input-3-acd006292397>\u001b[0m in \u001b[0;36m<cell line: 0>\u001b[0;34m()\u001b[0m\n\u001b[1;32m      3\u001b[0m \u001b[0;34m\u001b[0m\u001b[0m\n\u001b[1;32m      4\u001b[0m \u001b[0;31m# 기존 csv 파일 경로\u001b[0m\u001b[0;34m\u001b[0m\u001b[0;34m\u001b[0m\u001b[0m\n\u001b[0;32m----> 5\u001b[0;31m \u001b[0mcsv_path\u001b[0m \u001b[0;34m=\u001b[0m \u001b[0;34mf'{meta_data_path}/valid_videos_old.csv'\u001b[0m\u001b[0;34m\u001b[0m\u001b[0;34m\u001b[0m\u001b[0m\n\u001b[0m\u001b[1;32m      6\u001b[0m \u001b[0;34m\u001b[0m\u001b[0m\n\u001b[1;32m      7\u001b[0m \u001b[0;31m# 새로운 기본 경로\u001b[0m\u001b[0;34m\u001b[0m\u001b[0;34m\u001b[0m\u001b[0m\n",
            "\u001b[0;31mNameError\u001b[0m: name 'meta_data_path' is not defined"
          ]
        }
      ]
    },
    {
      "cell_type": "code",
      "source": [
        "# Transform\n",
        "im_size = 112\n",
        "transform = transforms.Compose([\n",
        "    transforms.ToPILImage(),\n",
        "    transforms.Resize((im_size, im_size)),\n",
        "    transforms.ToTensor(),\n",
        "    transforms.Normalize(mean=[0.485, 0.456, 0.406],\n",
        "                         std=[0.229, 0.224, 0.225])\n",
        "])\n",
        "\n",
        "# Frame extractor\n",
        "def frame_extract(path):\n",
        "    cap = cv2.VideoCapture(path)\n",
        "    success, image = cap.read()\n",
        "    while success:\n",
        "        yield image\n",
        "        success, image = cap.read()\n",
        "    cap.release()\n",
        "\n",
        "# Validate a single video\n",
        "def validate_and_count(video_path, transform, required_frames=20):\n",
        "    try:\n",
        "        cap = cv2.VideoCapture(video_path)\n",
        "        total_frames = int(cap.get(cv2.CAP_PROP_FRAME_COUNT))\n",
        "        cap.release()\n",
        "        if total_frames < frames_required:\n",
        "            return None\n",
        "\n",
        "        frames = []\n",
        "        for i, frame in enumerate(frame_extract(video_path)):\n",
        "            if frame is None: break\n",
        "            frames.append(transform(frame))\n",
        "            if len(frames) == required_frames:\n",
        "                break\n",
        "        if len(frames) < required_frames:\n",
        "            return None\n",
        "        return video_path, total_frames\n",
        "    except:\n",
        "        return None\n",
        "\n",
        "# Step 1 & 2: Validate and filter videos (with CSV caching)\n",
        "video_files = glob.glob(f'{input_file_path}/*.mp4') + glob.glob(f'{output_file_path}/*.mp4')\n",
        "print(f\"[INFO] Total videos before validation: {len(video_files)}\")\n"
      ],
      "metadata": {
        "colab": {
          "base_uri": "https://localhost:8080/"
        },
        "id": "zwWPLf1hmae1",
        "outputId": "6768815a-b90a-497d-9b28-578220e9fb2a"
      },
      "execution_count": 5,
      "outputs": [
        {
          "output_type": "stream",
          "name": "stdout",
          "text": [
            "[INFO] Total videos before validation: 3085\n"
          ]
        }
      ]
    },
    {
      "cell_type": "code",
      "source": [
        "if os.path.exists(valid_csv_path):\n",
        "    print(\"[INFO] Loading validated video list from CSV...\")\n",
        "    valid_df = pd.read_csv(valid_csv_path)\n",
        "    valid_videos = valid_df['video_path'].tolist()\n",
        "    frame_counts = valid_df['frame_count'].tolist()\n",
        "else:\n",
        "    print(\"[INFO] Validating videos...\")\n",
        "    valid_videos = []\n",
        "    frame_counts = []\n",
        "    with concurrent.futures.ThreadPoolExecutor(max_workers=8) as executor:\n",
        "        futures = [executor.submit(validate_and_count, v, transform) for v in video_files]\n",
        "        for f in tqdm(concurrent.futures.as_completed(futures), total=len(futures), desc=\"Validating videos\"):\n",
        "            result = f.result()\n",
        "            if result:\n",
        "                valid_videos.append(result[0])\n",
        "                frame_counts.append(result[1])\n",
        "    valid_df = pd.DataFrame({\n",
        "        'video_path': valid_videos,\n",
        "        'frame_count': frame_counts\n",
        "    })\n",
        "    valid_df.to_csv(valid_csv_path, index=False)\n",
        "    print(f\"[INFO] Saved {len(valid_videos)} valid videos to valid_videos.csv\")\n",
        "\n",
        "print(f\"[INFO] Valid videos: {len(valid_videos)} | Avg frames: {np.mean(frame_counts):.2f}\")\n"
      ],
      "metadata": {
        "colab": {
          "base_uri": "https://localhost:8080/"
        },
        "id": "XBjmkEwkmgcO",
        "outputId": "d457c8b9-9963-4704-d70b-279d2400a357"
      },
      "execution_count": 6,
      "outputs": [
        {
          "output_type": "stream",
          "name": "stdout",
          "text": [
            "[INFO] Loading validated video list from CSV...\n",
            "[INFO] Valid videos: 3064 | Avg frames: 147.63\n"
          ]
        }
      ]
    },
    {
      "cell_type": "code",
      "source": [
        "# Step 3: Dataset and Dataloader\n",
        "label_df = pd.read_csv(f'{meta_data_path}/metadata.csv', sep='\\t', names=[\"file\", \"label\"])\n",
        "# label_df = label_df.dropna(subset=[\"file\",\"label\"])\n",
        "\n",
        "# label_dict = {row[\"file\"]: 0 if str(row[\"label\"]).strip().lower() == \"fake\" else 1 for _, row in label_df.iterrows()}\n",
        "\n",
        "print(label_df.columns)\n",
        "# dropna와 dict 생성\n",
        "label_df = label_df.dropna(subset=[\"file\", \"label\"])\n",
        "label_df[\"file\"] = label_df[\"file\"].apply(lambda x: os.path.splitext(os.path.basename(str(x).strip()))[0])\n",
        "\n",
        "label_dict = {\n",
        "    row[\"file\"]: 0 if str(row[\"label\"]).strip().lower() == \"fake\" else 1\n",
        "    for _, row in label_df.iterrows()\n",
        "}\n",
        "\n",
        "class VideoDataset(Dataset):\n",
        "    def __init__(self, video_paths, label_dict, sequence_length=10, transform=None):\n",
        "        self.video_paths = video_paths\n",
        "        self.label_dict = label_dict\n",
        "        self.sequence_length = sequence_length\n",
        "        self.transform = transform\n",
        "\n",
        "    def __len__(self):\n",
        "        return len(self.video_paths)\n",
        "\n",
        "    def __getitem__(self, idx):\n",
        "        video_path = self.video_paths[idx]\n",
        "        frames = []\n",
        "\n",
        "        for frame in frame_extract(video_path):\n",
        "            if frame is None: continue\n",
        "            frames.append(self.transform(frame))\n",
        "            if len(frames) == self.sequence_length:\n",
        "                break\n",
        "        if len(frames) == 0:\n",
        "            raise RuntimeError(f\"No frames extracted from video: {video_path}\")\n",
        "\n",
        "        # frames = torch.stack(frames[:self.sequence_length])\n",
        "        # label = self.label_dict.get(os.path.basename(video_path), 0)\n",
        "\n",
        "        file_key = os.path.splitext(os.path.basename(video_path))[0]\n",
        "        label = self.label_dict.get(file_key, 0)  # fallback은 0\n",
        "\n",
        "        return frames, label"
      ],
      "metadata": {
        "colab": {
          "base_uri": "https://localhost:8080/"
        },
        "id": "88p31sm4miyT",
        "outputId": "860e6c1d-55f6-4030-eb56-38c4be7a1356"
      },
      "execution_count": 18,
      "outputs": [
        {
          "output_type": "stream",
          "name": "stdout",
          "text": [
            "Index(['file', 'label'], dtype='object')\n"
          ]
        }
      ]
    },
    {
      "source": [
        "class VideoDataset(Dataset):\n",
        "    def __init__(self, video_paths, label_dict, sequence_length=10, transform=None):\n",
        "        self.video_paths = video_paths\n",
        "        self.label_dict = label_dict\n",
        "        self.sequence_length = sequence_length\n",
        "        self.transform = transform\n",
        "\n",
        "    def __len__(self):\n",
        "        return len(self.video_paths)\n",
        "\n",
        "    def __getitem__(self, idx):\n",
        "        video_path = self.video_paths[idx]\n",
        "        frames = []\n",
        "\n",
        "        for frame in frame_extract(video_path):\n",
        "            if frame is None: continue\n",
        "            frames.append(self.transform(frame))\n",
        "            if len(frames) == self.sequence_length:\n",
        "                break\n",
        "        if len(frames) == 0:\n",
        "            raise RuntimeError(f\"No frames extracted from video: {video_path}\")\n",
        "\n",
        "        # Uncomment this line to stack the list of frame tensors into a single tensor\n",
        "        frames = torch.stack(frames[:self.sequence_length])\n",
        "        # label = self.label_dict.get(os.path.basename(video_path), 0)\n",
        "\n",
        "        file_key = os.path.splitext(os.path.basename(video_path))[0]\n",
        "        label = self.label_dict.get(file_key, 0)  # fallback은 0\n",
        "\n",
        "        return frames, label"
      ],
      "cell_type": "code",
      "metadata": {
        "id": "JKOf86veOYqK"
      },
      "execution_count": 25,
      "outputs": []
    },
    {
      "cell_type": "code",
      "source": [
        "from collections import Counter\n",
        "label_counts = Counter(label_dict.values())\n",
        "print(f\"Updated label distribution: {label_counts}\")\n",
        "# 기대 결과: Counter({0: xxx, 1: yyy})  // fake와 real 적절히 섞여 있어야 함\n",
        "\n",
        "print(f\"Train size: {len(train_videos)}\")\n",
        "print(f\"Val size: {len(val_videos)}\")\n",
        "print(f\"Intersection: {len(set(train_videos) & set(val_videos))}\")\n",
        "\n"
      ],
      "metadata": {
        "colab": {
          "base_uri": "https://localhost:8080/"
        },
        "id": "iCT9LmqkNSg6",
        "outputId": "d5e1327d-00b9-42cf-dfd6-916ab4de4a6b"
      },
      "execution_count": 26,
      "outputs": [
        {
          "output_type": "stream",
          "name": "stdout",
          "text": [
            "Updated label distribution: Counter({1: 2513, 0: 2362})\n",
            "Train size: 2144\n",
            "Val size: 920\n",
            "Intersection: 0\n"
          ]
        }
      ]
    },
    {
      "cell_type": "code",
      "source": [
        "# CSV 파일을 제대로 읽고 있는지 확인\n",
        "# label_df = pd.read_csv(f'{meta_data_path}/metadata.csv')\n",
        "# print(label_df.head())\n",
        "# print(label_df.columns)"
      ],
      "metadata": {
        "id": "u5m27yAhNakv"
      },
      "execution_count": 27,
      "outputs": []
    },
    {
      "cell_type": "code",
      "source": [
        "# Train/Val Split\n",
        "random.shuffle(valid_videos)\n",
        "train_split = int(0.7 * len(valid_videos))\n",
        "train_videos = valid_videos[:train_split]\n",
        "val_videos = valid_videos[train_split:]\n",
        "\n",
        "train_data = VideoDataset(train_videos, label_dict, transform=transform)\n",
        "val_data = VideoDataset(val_videos, label_dict, transform=transform)\n",
        "\n",
        "train_loader = DataLoader(train_data, batch_size=4, shuffle=True, num_workers=6)\n",
        "val_loader = DataLoader(val_data, batch_size=4, shuffle=False, num_workers=6)\n"
      ],
      "metadata": {
        "colab": {
          "base_uri": "https://localhost:8080/"
        },
        "id": "_AZv7ftJmjj3",
        "outputId": "dcdead4b-202b-494e-e225-3c6bb6a50131"
      },
      "execution_count": 35,
      "outputs": [
        {
          "output_type": "stream",
          "name": "stderr",
          "text": [
            "/usr/local/lib/python3.11/dist-packages/torch/utils/data/dataloader.py:624: UserWarning: This DataLoader will create 6 worker processes in total. Our suggested max number of worker in current system is 2, which is smaller than what this DataLoader is going to create. Please be aware that excessive worker creation might get DataLoader running slow or even freeze, lower the worker number to avoid potential slowness/freeze if necessary.\n",
            "  warnings.warn(\n"
          ]
        }
      ]
    },
    {
      "cell_type": "code",
      "source": [
        "# Step 4: Model\n",
        "class Model(nn.Module):\n",
        "    def __init__(self, num_classes=2, latent_dim=1280, lstm_layers=1, hidden_dim=2048, bidirectional=False):\n",
        "        super(Model, self).__init__()\n",
        "        base = models.efficientnet_b0(pretrained=True)\n",
        "        self.features = base.features\n",
        "        self.avgpool = nn.AdaptiveAvgPool2d(1)\n",
        "        self.lstm = nn.LSTM(latent_dim, hidden_dim, lstm_layers, bidirectional)\n",
        "        self.fc = nn.Linear(hidden_dim, num_classes)\n",
        "        self.dropout = nn.Dropout(0.4)\n",
        "\n",
        "    def forward(self, x):\n",
        "        B, T, C, H, W = x.shape\n",
        "        x = x.view(B * T, C, H, W)\n",
        "        x = self.features(x)\n",
        "        x = self.avgpool(x).view(B, T, -1)\n",
        "        x, _ = self.lstm(x)\n",
        "        out = self.fc(self.dropout(x.mean(dim=1)))\n",
        "        return out\n",
        "\n",
        "device = torch.device(\"cuda\" if torch.cuda.is_available() else \"cpu\")\n",
        "model = Model().to(device)\n",
        "criterion = nn.CrossEntropyLoss()\n",
        "optimizer = optim.Adam(model.parameters(), lr=0.0001)\n"
      ],
      "metadata": {
        "id": "TzuJGc92mliG"
      },
      "execution_count": 36,
      "outputs": []
    },
    {
      "cell_type": "code",
      "source": [
        "# Step 5: Train & Evaluate\n",
        "def calculate_accuracy(outputs, targets):\n",
        "    _, preds = outputs.max(1)\n",
        "    return (preds == targets).float().mean().item() * 100\n",
        "\n",
        "def train_epoch(epoch, model, loader, criterion, optimizer):\n",
        "    model.train()\n",
        "    total_loss, total_acc = 0, 0\n",
        "    start_time = time.time()\n",
        "\n",
        "    for i, (x, y) in enumerate(loader):\n",
        "        x, y = x.to(device), y.to(device)\n",
        "        outputs = model(x)\n",
        "        loss = criterion(outputs, y)\n",
        "        acc = calculate_accuracy(outputs, y)\n",
        "\n",
        "        optimizer.zero_grad()\n",
        "        loss.backward()\n",
        "        optimizer.step()\n",
        "\n",
        "        total_loss += loss.item()\n",
        "        total_acc += acc\n",
        "\n",
        "        if (i + 1) % 10 == 0:\n",
        "            elapsed = time.time() - start_time\n",
        "            eta = elapsed / (i + 1) * (len(loader) - i - 1)\n",
        "            print(f\"\\r[Train] Epoch {epoch} | Batch {i+1}/{len(loader)} | Loss: {loss.item():.4f} | Acc: {acc:.2f}% | ETA: {eta:.1f}s\", end=\"\")\n",
        "\n",
        "    print()\n",
        "    return total_loss / len(loader), total_acc / len(loader)\n",
        "\n",
        "def evaluate(model, loader, criterion):\n",
        "    model.eval()\n",
        "    total_loss, total_acc = 0, 0\n",
        "    y_true, y_pred = [], []\n",
        "\n",
        "    with torch.no_grad():\n",
        "        for x, y in loader:\n",
        "            x, y = x.to(device), y.to(device)\n",
        "            outputs = model(x)\n",
        "            loss = criterion(outputs, y)\n",
        "            acc = calculate_accuracy(outputs, y)\n",
        "\n",
        "            total_loss += loss.item()\n",
        "            total_acc += acc\n",
        "\n",
        "            preds = outputs.argmax(dim=1).cpu().numpy()\n",
        "            y_pred.extend(preds)\n",
        "            y_true.extend(y.cpu().numpy())\n",
        "\n",
        "    return total_loss / len(loader), total_acc / len(loader), y_true, y_pred\n"
      ],
      "metadata": {
        "id": "c0Qmx3MWmnM2"
      },
      "execution_count": 37,
      "outputs": []
    },
    {
      "cell_type": "code",
      "source": [
        "# Step 6: Training Loop\n",
        "train_losses, val_losses = [], []\n",
        "train_accs, val_accs = [], []\n",
        "\n",
        "epochs = 10\n",
        "for epoch in range(1, epochs + 1):\n",
        "    print(f\"\\n[INFO] Starting Epoch {epoch}/{epochs}\")\n",
        "    train_loss, train_acc = train_epoch(epoch, model, train_loader, criterion, optimizer)\n",
        "    val_loss, val_acc, y_true, y_pred = evaluate(model, val_loader, criterion)\n",
        "\n",
        "    train_losses.append(train_loss)\n",
        "    val_losses.append(val_loss)\n",
        "    train_accs.append(train_acc)\n",
        "    val_accs.append(val_acc)\n",
        "\n",
        "    print(f\"[INFO] Epoch {epoch} Completed | Train Acc: {train_acc:.2f}% | Val Acc: {val_acc:.2f}%\")\n",
        "\n",
        "\n",
        "\n"
      ],
      "metadata": {
        "colab": {
          "base_uri": "https://localhost:8080/",
          "height": 400
        },
        "id": "_chFHIcTmpfb",
        "outputId": "b23574bb-4dae-4afb-bd04-e793277afba4"
      },
      "execution_count": 38,
      "outputs": [
        {
          "output_type": "stream",
          "name": "stdout",
          "text": [
            "\n",
            "[INFO] Starting Epoch 1/10\n"
          ]
        },
        {
          "output_type": "error",
          "ename": "KeyboardInterrupt",
          "evalue": "",
          "traceback": [
            "\u001b[0;31m---------------------------------------------------------------------------\u001b[0m",
            "\u001b[0;31mKeyboardInterrupt\u001b[0m                         Traceback (most recent call last)",
            "\u001b[0;32m<ipython-input-38-b42dcfb64213>\u001b[0m in \u001b[0;36m<cell line: 0>\u001b[0;34m()\u001b[0m\n\u001b[1;32m      6\u001b[0m \u001b[0;32mfor\u001b[0m \u001b[0mepoch\u001b[0m \u001b[0;32min\u001b[0m \u001b[0mrange\u001b[0m\u001b[0;34m(\u001b[0m\u001b[0;36m1\u001b[0m\u001b[0;34m,\u001b[0m \u001b[0mepochs\u001b[0m \u001b[0;34m+\u001b[0m \u001b[0;36m1\u001b[0m\u001b[0;34m)\u001b[0m\u001b[0;34m:\u001b[0m\u001b[0;34m\u001b[0m\u001b[0;34m\u001b[0m\u001b[0m\n\u001b[1;32m      7\u001b[0m     \u001b[0mprint\u001b[0m\u001b[0;34m(\u001b[0m\u001b[0;34mf\"\\n[INFO] Starting Epoch {epoch}/{epochs}\"\u001b[0m\u001b[0;34m)\u001b[0m\u001b[0;34m\u001b[0m\u001b[0;34m\u001b[0m\u001b[0m\n\u001b[0;32m----> 8\u001b[0;31m     \u001b[0mtrain_loss\u001b[0m\u001b[0;34m,\u001b[0m \u001b[0mtrain_acc\u001b[0m \u001b[0;34m=\u001b[0m \u001b[0mtrain_epoch\u001b[0m\u001b[0;34m(\u001b[0m\u001b[0mepoch\u001b[0m\u001b[0;34m,\u001b[0m \u001b[0mmodel\u001b[0m\u001b[0;34m,\u001b[0m \u001b[0mtrain_loader\u001b[0m\u001b[0;34m,\u001b[0m \u001b[0mcriterion\u001b[0m\u001b[0;34m,\u001b[0m \u001b[0moptimizer\u001b[0m\u001b[0;34m)\u001b[0m\u001b[0;34m\u001b[0m\u001b[0;34m\u001b[0m\u001b[0m\n\u001b[0m\u001b[1;32m      9\u001b[0m     \u001b[0mval_loss\u001b[0m\u001b[0;34m,\u001b[0m \u001b[0mval_acc\u001b[0m\u001b[0;34m,\u001b[0m \u001b[0my_true\u001b[0m\u001b[0;34m,\u001b[0m \u001b[0my_pred\u001b[0m \u001b[0;34m=\u001b[0m \u001b[0mevaluate\u001b[0m\u001b[0;34m(\u001b[0m\u001b[0mmodel\u001b[0m\u001b[0;34m,\u001b[0m \u001b[0mval_loader\u001b[0m\u001b[0;34m,\u001b[0m \u001b[0mcriterion\u001b[0m\u001b[0;34m)\u001b[0m\u001b[0;34m\u001b[0m\u001b[0;34m\u001b[0m\u001b[0m\n\u001b[1;32m     10\u001b[0m \u001b[0;34m\u001b[0m\u001b[0m\n",
            "\u001b[0;32m<ipython-input-37-fc1d4040d7d9>\u001b[0m in \u001b[0;36mtrain_epoch\u001b[0;34m(epoch, model, loader, criterion, optimizer)\u001b[0m\n\u001b[1;32m     16\u001b[0m \u001b[0;34m\u001b[0m\u001b[0m\n\u001b[1;32m     17\u001b[0m         \u001b[0moptimizer\u001b[0m\u001b[0;34m.\u001b[0m\u001b[0mzero_grad\u001b[0m\u001b[0;34m(\u001b[0m\u001b[0;34m)\u001b[0m\u001b[0;34m\u001b[0m\u001b[0;34m\u001b[0m\u001b[0m\n\u001b[0;32m---> 18\u001b[0;31m         \u001b[0mloss\u001b[0m\u001b[0;34m.\u001b[0m\u001b[0mbackward\u001b[0m\u001b[0;34m(\u001b[0m\u001b[0;34m)\u001b[0m\u001b[0;34m\u001b[0m\u001b[0;34m\u001b[0m\u001b[0m\n\u001b[0m\u001b[1;32m     19\u001b[0m         \u001b[0moptimizer\u001b[0m\u001b[0;34m.\u001b[0m\u001b[0mstep\u001b[0m\u001b[0;34m(\u001b[0m\u001b[0;34m)\u001b[0m\u001b[0;34m\u001b[0m\u001b[0;34m\u001b[0m\u001b[0m\n\u001b[1;32m     20\u001b[0m \u001b[0;34m\u001b[0m\u001b[0m\n",
            "\u001b[0;32m/usr/local/lib/python3.11/dist-packages/torch/_tensor.py\u001b[0m in \u001b[0;36mbackward\u001b[0;34m(self, gradient, retain_graph, create_graph, inputs)\u001b[0m\n\u001b[1;32m    624\u001b[0m                 \u001b[0minputs\u001b[0m\u001b[0;34m=\u001b[0m\u001b[0minputs\u001b[0m\u001b[0;34m,\u001b[0m\u001b[0;34m\u001b[0m\u001b[0;34m\u001b[0m\u001b[0m\n\u001b[1;32m    625\u001b[0m             )\n\u001b[0;32m--> 626\u001b[0;31m         torch.autograd.backward(\n\u001b[0m\u001b[1;32m    627\u001b[0m             \u001b[0mself\u001b[0m\u001b[0;34m,\u001b[0m \u001b[0mgradient\u001b[0m\u001b[0;34m,\u001b[0m \u001b[0mretain_graph\u001b[0m\u001b[0;34m,\u001b[0m \u001b[0mcreate_graph\u001b[0m\u001b[0;34m,\u001b[0m \u001b[0minputs\u001b[0m\u001b[0;34m=\u001b[0m\u001b[0minputs\u001b[0m\u001b[0;34m\u001b[0m\u001b[0;34m\u001b[0m\u001b[0m\n\u001b[1;32m    628\u001b[0m         )\n",
            "\u001b[0;32m/usr/local/lib/python3.11/dist-packages/torch/autograd/__init__.py\u001b[0m in \u001b[0;36mbackward\u001b[0;34m(tensors, grad_tensors, retain_graph, create_graph, grad_variables, inputs)\u001b[0m\n\u001b[1;32m    345\u001b[0m     \u001b[0;31m# some Python versions print out the first line of a multi-line function\u001b[0m\u001b[0;34m\u001b[0m\u001b[0;34m\u001b[0m\u001b[0m\n\u001b[1;32m    346\u001b[0m     \u001b[0;31m# calls in the traceback and some print out the last line\u001b[0m\u001b[0;34m\u001b[0m\u001b[0;34m\u001b[0m\u001b[0m\n\u001b[0;32m--> 347\u001b[0;31m     _engine_run_backward(\n\u001b[0m\u001b[1;32m    348\u001b[0m         \u001b[0mtensors\u001b[0m\u001b[0;34m,\u001b[0m\u001b[0;34m\u001b[0m\u001b[0;34m\u001b[0m\u001b[0m\n\u001b[1;32m    349\u001b[0m         \u001b[0mgrad_tensors_\u001b[0m\u001b[0;34m,\u001b[0m\u001b[0;34m\u001b[0m\u001b[0;34m\u001b[0m\u001b[0m\n",
            "\u001b[0;32m/usr/local/lib/python3.11/dist-packages/torch/autograd/graph.py\u001b[0m in \u001b[0;36m_engine_run_backward\u001b[0;34m(t_outputs, *args, **kwargs)\u001b[0m\n\u001b[1;32m    821\u001b[0m         \u001b[0munregister_hooks\u001b[0m \u001b[0;34m=\u001b[0m \u001b[0m_register_logging_hooks_on_whole_graph\u001b[0m\u001b[0;34m(\u001b[0m\u001b[0mt_outputs\u001b[0m\u001b[0;34m)\u001b[0m\u001b[0;34m\u001b[0m\u001b[0;34m\u001b[0m\u001b[0m\n\u001b[1;32m    822\u001b[0m     \u001b[0;32mtry\u001b[0m\u001b[0;34m:\u001b[0m\u001b[0;34m\u001b[0m\u001b[0;34m\u001b[0m\u001b[0m\n\u001b[0;32m--> 823\u001b[0;31m         return Variable._execution_engine.run_backward(  # Calls into the C++ engine to run the backward pass\n\u001b[0m\u001b[1;32m    824\u001b[0m             \u001b[0mt_outputs\u001b[0m\u001b[0;34m,\u001b[0m \u001b[0;34m*\u001b[0m\u001b[0margs\u001b[0m\u001b[0;34m,\u001b[0m \u001b[0;34m**\u001b[0m\u001b[0mkwargs\u001b[0m\u001b[0;34m\u001b[0m\u001b[0;34m\u001b[0m\u001b[0m\n\u001b[1;32m    825\u001b[0m         )  # Calls into the C++ engine to run the backward pass\n",
            "\u001b[0;31mKeyboardInterrupt\u001b[0m: "
          ]
        }
      ]
    },
    {
      "cell_type": "code",
      "source": [
        "def load_checkpoint(path, model, optimizer):\n",
        "    if os.path.exists(path):\n",
        "        checkpoint = torch.load(path, map_location=device)\n",
        "        model.load_state_dict(checkpoint['model_state_dict'])\n",
        "        optimizer.load_state_dict(checkpoint['optimizer_state_dict'])\n",
        "        start_epoch = checkpoint['epoch']\n",
        "        best_val_acc = checkpoint['val_acc']\n",
        "        print(f\"[INFO] Loaded checkpoint from epoch {start_epoch} with best val acc: {best_val_acc:.2f}%\")\n",
        "        return start_epoch, best_val_acc\n",
        "    else:\n",
        "        print(\"[INFO] No checkpoint found. Starting from scratch.\")\n",
        "        return 0, 0.0\n"
      ],
      "metadata": {
        "id": "H-6sVBNoYui1"
      },
      "execution_count": 39,
      "outputs": []
    },
    {
      "cell_type": "code",
      "source": [
        "# 학습 설정\n",
        "train_losses, val_losses = [], []\n",
        "train_accs, val_accs = [], []\n",
        "epochs = 7\n",
        "checkpoint_path = 'best_checkpoint.pth'\n",
        "\n",
        "# 체크포인트 로딩\n",
        "start_epoch, best_val_acc = load_checkpoint(checkpoint_path, model, optimizer)\n",
        "\n",
        "# 이어서 학습\n",
        "for epoch in range(start_epoch + 1, epochs + 1):\n",
        "    print(f\"\\n[INFO] Starting Epoch {epoch}/{epochs}\")\n",
        "    train_loss, train_acc = train_epoch(epoch, model, train_loader, criterion, optimizer)\n",
        "    val_loss, val_acc, y_true, y_pred = evaluate(model, val_loader, criterion)\n",
        "\n",
        "    train_losses.append(train_loss)\n",
        "    val_losses.append(val_loss)\n",
        "    train_accs.append(train_acc)\n",
        "    val_accs.append(val_acc)\n",
        "\n",
        "    print(f\"[INFO] Epoch {epoch} Completed | Train Acc: {train_acc:.2f}% | Val Acc: {val_acc:.2f}%\")\n",
        "\n",
        "    # 최고 성능 모델 저장\n",
        "    if val_acc > best_val_acc:\n",
        "        best_val_acc = val_acc\n",
        "        checkpoint = {\n",
        "            'epoch': epoch,\n",
        "            'model_state_dict': model.state_dict(),\n",
        "            'optimizer_state_dict': optimizer.state_dict(),\n",
        "            'val_acc': best_val_acc\n",
        "        }\n",
        "        torch.save(checkpoint, checkpoint_path)\n",
        "        print(f\"[INFO] Saved checkpoint at Epoch {epoch} with Val Acc: {val_acc:.2f}%\")\n",
        "\n",
        "print(\"[INFO] Training Complete\")\n"
      ],
      "metadata": {
        "colab": {
          "base_uri": "https://localhost:8080/"
        },
        "id": "y0AQ5hXyYxQV",
        "outputId": "b46816e7-8237-49f8-b3e2-e38646bc86e8"
      },
      "execution_count": 40,
      "outputs": [
        {
          "output_type": "stream",
          "name": "stdout",
          "text": [
            "[INFO] No checkpoint found. Starting from scratch.\n",
            "\n",
            "[INFO] Starting Epoch 1/7\n",
            "[Train] Epoch 1 | Batch 530/536 | Loss: 0.5608 | Acc: 50.00% | ETA: 23.5s\n",
            "[INFO] Epoch 1 Completed | Train Acc: 67.02% | Val Acc: 72.83%\n",
            "[INFO] Saved checkpoint at Epoch 1 with Val Acc: 72.83%\n",
            "\n",
            "[INFO] Starting Epoch 2/7\n",
            "[Train] Epoch 2 | Batch 530/536 | Loss: 0.7446 | Acc: 50.00% | ETA: 23.6s\n",
            "[INFO] Epoch 2 Completed | Train Acc: 76.17% | Val Acc: 78.70%\n",
            "[INFO] Saved checkpoint at Epoch 2 with Val Acc: 78.70%\n",
            "\n",
            "[INFO] Starting Epoch 3/7\n",
            "[Train] Epoch 3 | Batch 530/536 | Loss: 0.1196 | Acc: 100.00% | ETA: 23.3s\n",
            "[INFO] Epoch 3 Completed | Train Acc: 81.53% | Val Acc: 83.26%\n",
            "[INFO] Saved checkpoint at Epoch 3 with Val Acc: 83.26%\n",
            "\n",
            "[INFO] Starting Epoch 4/7\n",
            "[Train] Epoch 4 | Batch 530/536 | Loss: 0.5375 | Acc: 50.00% | ETA: 23.6s\n",
            "[INFO] Epoch 4 Completed | Train Acc: 85.21% | Val Acc: 79.46%\n",
            "\n",
            "[INFO] Starting Epoch 5/7\n",
            "[Train] Epoch 5 | Batch 530/536 | Loss: 0.0261 | Acc: 100.00% | ETA: 23.5s\n",
            "[INFO] Epoch 5 Completed | Train Acc: 86.57% | Val Acc: 82.50%\n",
            "\n",
            "[INFO] Starting Epoch 6/7\n",
            "[Train] Epoch 6 | Batch 530/536 | Loss: 0.0795 | Acc: 100.00% | ETA: 23.5s\n",
            "[INFO] Epoch 6 Completed | Train Acc: 88.71% | Val Acc: 82.17%\n",
            "\n",
            "[INFO] Starting Epoch 7/7\n",
            "[Train] Epoch 7 | Batch 530/536 | Loss: 0.0223 | Acc: 100.00% | ETA: 23.0s\n",
            "[INFO] Epoch 7 Completed | Train Acc: 92.77% | Val Acc: 84.13%\n",
            "[INFO] Saved checkpoint at Epoch 7 with Val Acc: 84.13%\n",
            "[INFO] Training Complete\n"
          ]
        }
      ]
    },
    {
      "cell_type": "code",
      "source": [
        "# 전체 모델 저장\n",
        "torch.save(model, 'final_model.pth')"
      ],
      "metadata": {
        "id": "3NoCRAA3Y3Ug"
      },
      "execution_count": 41,
      "outputs": []
    },
    {
      "cell_type": "code",
      "source": [
        "# Step 7: Confusion Matrix\n",
        "def print_confusion(y_true, y_pred):\n",
        "    cm = confusion_matrix(y_true, y_pred)\n",
        "    print(\"\\n[CONFUSION MATRIX]:\\n\", cm)\n",
        "    print(\"\\n[CLASSIFICATION REPORT]:\")\n",
        "    print(classification_report(y_true, y_pred, target_names=[\"Fake\", \"Real\"]))\n",
        "    sn.heatmap(cm, annot=True, fmt='d', cmap='Blues')\n",
        "    plt.xlabel(\"Predicted\")\n",
        "    plt.ylabel(\"Actual\")\n",
        "    plt.title(\"Confusion Matrix\")\n",
        "    plt.show()\n",
        "\n",
        "print_confusion(y_true, y_pred)"
      ],
      "metadata": {
        "colab": {
          "base_uri": "https://localhost:8080/",
          "height": 740
        },
        "id": "WnrTzMDWoIKf",
        "outputId": "95eb8624-f39d-4e01-9410-10026076584a"
      },
      "execution_count": 42,
      "outputs": [
        {
          "output_type": "stream",
          "name": "stdout",
          "text": [
            "\n",
            "[CONFUSION MATRIX]:\n",
            " [[350  89]\n",
            " [ 57 424]]\n",
            "\n",
            "[CLASSIFICATION REPORT]:\n",
            "              precision    recall  f1-score   support\n",
            "\n",
            "        Fake       0.86      0.80      0.83       439\n",
            "        Real       0.83      0.88      0.85       481\n",
            "\n",
            "    accuracy                           0.84       920\n",
            "   macro avg       0.84      0.84      0.84       920\n",
            "weighted avg       0.84      0.84      0.84       920\n",
            "\n"
          ]
        },
        {
          "output_type": "display_data",
          "data": {
            "text/plain": [
              "<Figure size 640x480 with 2 Axes>"
            ],
            "image/png": "[encoded data removed]"
          },
          "metadata": {}
        }
      ]
    }
  ]
}